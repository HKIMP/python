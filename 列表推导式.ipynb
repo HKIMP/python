{
 "cells": [
  {
   "cell_type": "raw",
   "metadata": {},
   "source": [
    "列表推导式可以利用range区间，元组，列表，字典和集合等数据类型，快速生成一个满足需求的列表"
   ]
  },
  {
   "cell_type": "raw",
   "metadata": {},
   "source": [
    "【表达式 for 迭代变量 in 可迭代对象 【if 条件表达式】】\n",
    "\n",
    "其中，【if条件表达式】不是必须的，可以使用也可以忽略。\n",
    "\n",
    "执行顺序：\n",
    "for 迭代对象 in 可迭代对象\n",
    "    表达式\n"
   ]
  },
  {
   "cell_type": "code",
   "execution_count": 1,
   "metadata": {},
   "outputs": [
    {
     "data": {
      "text/plain": [
       "[3, 6, 4, 8]"
      ]
     },
     "execution_count": 1,
     "metadata": {},
     "output_type": "execute_result"
    }
   ],
   "source": [
    "[x*y for x in range(1, 5) if x > 2 for y in range(1,4) if y < 3]"
   ]
  },
  {
   "cell_type": "code",
   "execution_count": 10,
   "metadata": {},
   "outputs": [
    {
     "data": {
      "text/plain": [
       "[3, 6, 4, 8]"
      ]
     },
     "execution_count": 10,
     "metadata": {},
     "output_type": "execute_result"
    }
   ],
   "source": [
    "# 相当于\n",
    "result = []\n",
    "for x in range(1, 5):\n",
    "    if x > 2:\n",
    "        for y in range(1, 4):\n",
    "            if y < 3:\n",
    "                result.append(x*y)\n",
    "result"
   ]
  },
  {
   "cell_type": "code",
   "execution_count": 4,
   "metadata": {},
   "outputs": [
    {
     "data": {
      "text/plain": [
       "[(0, 0), (0, 1), (0, 2), (1, 0), (1, 1), (1, 2), (2, 0), (2, 1), (2, 2)]"
      ]
     },
     "execution_count": 4,
     "metadata": {},
     "output_type": "execute_result"
    }
   ],
   "source": [
    "[(x, y) for x in range(3) for y in range(3)]"
   ]
  },
  {
   "cell_type": "code",
   "execution_count": 7,
   "metadata": {},
   "outputs": [
    {
     "data": {
      "text/plain": [
       "[1, 2, 3, 4, 5, 6, 7, 8, 9]"
      ]
     },
     "execution_count": 7,
     "metadata": {},
     "output_type": "execute_result"
    }
   ],
   "source": [
    "# 使用列表推导式实现嵌套列表的平铺\n",
    "vec = [[1, 2, 3], [4, 5, 6,], [7, 8, 9]]\n",
    "[num for elem in vec for num in elem]"
   ]
  },
  {
   "cell_type": "code",
   "execution_count": 11,
   "metadata": {},
   "outputs": [
    {
     "data": {
      "text/plain": [
       "[1, 2, 3, 4, 5, 6, 7, 8, 9]"
      ]
     },
     "execution_count": 11,
     "metadata": {},
     "output_type": "execute_result"
    }
   ],
   "source": [
    "vec = [[1, 2, 3], [4, 5, 6,], [7, 8, 9]]\n",
    "result = []\n",
    "for elem in vec:\n",
    "    for num in elem:\n",
    "        result.append(num)\n",
    "result"
   ]
  },
  {
   "cell_type": "code",
   "execution_count": 12,
   "metadata": {},
   "outputs": [
    {
     "name": "stdout",
     "output_type": "stream",
     "text": [
      "[]\n"
     ]
    }
   ],
   "source": [
    "#列出当前列表下所有python源文件\n",
    "import os \n",
    "print([filename for filename in os.listdir(\".\") if filename.endswith(\".py\")])"
   ]
  },
  {
   "cell_type": "code",
   "execution_count": 14,
   "metadata": {},
   "outputs": [
    {
     "data": {
      "text/plain": [
       "[51, 24, 68, 10, 20, 33, 22, 43, 74, 14]"
      ]
     },
     "execution_count": 14,
     "metadata": {},
     "output_type": "execute_result"
    }
   ],
   "source": [
    "#生成指定范围的数值列表\n",
    "import random\n",
    "list1 = [random.randint(10, 100) for i in range(10)]\n",
    "list1"
   ]
  },
  {
   "cell_type": "code",
   "execution_count": null,
   "metadata": {},
   "outputs": [],
   "source": []
  },
  {
   "cell_type": "code",
   "execution_count": 5,
   "metadata": {},
   "outputs": [
    {
     "name": "stdout",
     "output_type": "stream",
     "text": [
      "[3, 5, 7, 9]\n"
     ]
    }
   ],
   "source": [
    "#列表生成式\n",
    "def isPrime(num):\n",
    "    for i in range(2,num):\n",
    "        if num % i == 0:\n",
    "            return 0\n",
    "        else:\n",
    "            return 1\n",
    "li = [i for i in range(1,10) if isPrime(i)]\n",
    "\n",
    "print(li)"
   ]
  },
  {
   "cell_type": "code",
   "execution_count": 6,
   "metadata": {},
   "outputs": [
    {
     "name": "stdout",
     "output_type": "stream",
     "text": [
      "{'a': 1, 'b': 2}\n"
     ]
    }
   ],
   "source": [
    "#字典生成式\n",
    "\n",
    "d = dict(a=1, b=2)\n",
    "print(d)"
   ]
  },
  {
   "cell_type": "code",
   "execution_count": 7,
   "metadata": {},
   "outputs": [
    {
     "name": "stdout",
     "output_type": "stream",
     "text": [
      "{'A': 1, 'B': 2}\n"
     ]
    }
   ],
   "source": [
    "#1. 将所有的key值变为大写\n",
    "#传统方法：\n",
    "new_d = {}\n",
    "for i in d:\n",
    "    new_d[i.upper()] = d[i]\n",
    "print(new_d)"
   ]
  },
  {
   "cell_type": "code",
   "execution_count": 18,
   "metadata": {},
   "outputs": [
    {
     "name": "stdout",
     "output_type": "stream",
     "text": [
      "{'A': 1, 'B': 2}\n"
     ]
    }
   ],
   "source": [
    "#字典生成式\n",
    "print({k.upper():v  for k, v in d.items()})"
   ]
  },
  {
   "cell_type": "code",
   "execution_count": 20,
   "metadata": {},
   "outputs": [
    {
     "name": "stdout",
     "output_type": "stream",
     "text": [
      "{1: 'a', 2: 'b'}\n",
      "{1: 'a', 2: 'b'}\n"
     ]
    }
   ],
   "source": [
    "#把字典中的key 和 value值调换\n",
    "d = {'a':1, 'b':2}\n",
    "print({v : k for k , v in d.items()})"
   ]
  },
  {
   "cell_type": "code",
   "execution_count": 23,
   "metadata": {},
   "outputs": [
    {
     "name": "stdout",
     "output_type": "stream",
     "text": [
      "{'a': 7, 'b': 10, 'c': 2}\n",
      "a\n",
      "b\n",
      "c\n",
      "B\n",
      "A\n"
     ]
    }
   ],
   "source": [
    "#大小写key值合并，统一以小写key值输出\n",
    "d = dict(a=2, b=1, c=2, B=9, A=5)\n",
    "print({k.lower():d.get(k.lower(),0)+d.get(k.upper(), 0) for k in d})"
   ]
  },
  {
   "cell_type": "code",
   "execution_count": 28,
   "metadata": {},
   "outputs": [
    {
     "name": "stdout",
     "output_type": "stream",
     "text": [
      "[1, 1] [1, 1]\n"
     ]
    }
   ],
   "source": [
    "def f(x=[]):\n",
    "    x.append(1)\n",
    "    return x\n",
    "print(f(),f())"
   ]
  },
  {
   "cell_type": "code",
   "execution_count": 26,
   "metadata": {},
   "outputs": [
    {
     "name": "stdout",
     "output_type": "stream",
     "text": [
      "[1]\n",
      "[1, 1]\n",
      "[6, 6, 6, 1]\n",
      "[1, 1, 1]\n",
      "[1, 1, 1, 1]\n"
     ]
    }
   ],
   "source": [
    "def f(x=[]):\n",
    "    x.append(1)\n",
    "    return x\n",
    "print(f())\n",
    "print(f())\n",
    "print(f(x=[6, 6, 6]))\n",
    "print(f())\n",
    "print(f())"
   ]
  },
  {
   "cell_type": "code",
   "execution_count": 29,
   "metadata": {},
   "outputs": [
    {
     "name": "stdout",
     "output_type": "stream",
     "text": [
      "['a', 'a'] ['a', 'a']\n"
     ]
    }
   ],
   "source": [
    "a = []\n",
    "def f(x):\n",
    "    x.append('a')\n",
    "    return x\n",
    "def g(x):\n",
    "    x.append('a')\n",
    "    return x\n",
    "print(f(a), g(a))"
   ]
  },
  {
   "cell_type": "code",
   "execution_count": null,
   "metadata": {},
   "outputs": [],
   "source": [
    "参考：\n",
    "https://blog.csdn.net/qq_41891803/article/details/81515739"
   ]
  }
 ],
 "metadata": {
  "kernelspec": {
   "display_name": "Python 3",
   "language": "python",
   "name": "python3"
  },
  "language_info": {
   "codemirror_mode": {
    "name": "ipython",
    "version": 3
   },
   "file_extension": ".py",
   "mimetype": "text/x-python",
   "name": "python",
   "nbconvert_exporter": "python",
   "pygments_lexer": "ipython3",
   "version": "3.6.10"
  }
 },
 "nbformat": 4,
 "nbformat_minor": 4
}
