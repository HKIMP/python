{
 "cells": [
  {
   "cell_type": "code",
   "execution_count": 30,
   "metadata": {},
   "outputs": [
    {
     "name": "stdout",
     "output_type": "stream",
     "text": [
      "Point(x=575, y=326)\n"
     ]
    }
   ],
   "source": [
    "import pyautogui as pg\n",
    "print(pg.position())"
   ]
  },
  {
   "cell_type": "code",
   "execution_count": 7,
   "metadata": {},
   "outputs": [],
   "source": [
    "pg.click()"
   ]
  },
  {
   "cell_type": "code",
   "execution_count": 9,
   "metadata": {},
   "outputs": [],
   "source": [
    "pg.hotkey('ctrl', 'shift', 'v')"
   ]
  },
  {
   "cell_type": "code",
   "execution_count": 14,
   "metadata": {},
   "outputs": [],
   "source": [
    "pg.write('给钱')"
   ]
  },
  {
   "cell_type": "code",
   "execution_count": null,
   "metadata": {},
   "outputs": [],
   "source": []
  },
  {
   "cell_type": "code",
   "execution_count": 25,
   "metadata": {},
   "outputs": [],
   "source": [
    "pg.moveTo(909, 1424)\n",
    "pg.click()\n",
    "pg.moveTo(871, 1205)\n",
    "pg.click()\n",
    "pg.write('huanqian', interval=0.1)\n",
    "pg.press('1')\n",
    "pg.press('enter')"
   ]
  },
  {
   "cell_type": "code",
   "execution_count": 28,
   "metadata": {},
   "outputs": [],
   "source": [
    "def bb():\n",
    "    flag = True\n",
    "    for i in range(20):\n",
    "        if flag == True:\n",
    "            pg.moveTo(909, 1424)\n",
    "            pg.click()\n",
    "            pg.moveTo(871, 1205)\n",
    "            pg.click()\n",
    "            flag = False\n",
    "        pg.write('huanqian', interval=0.1)\n",
    "        pg.press('1')\n",
    "        pg.press('enter')"
   ]
  }
 ],
 "metadata": {
  "kernelspec": {
   "display_name": "Python 3",
   "language": "python",
   "name": "python3"
  },
  "language_info": {
   "codemirror_mode": {
    "name": "ipython",
    "version": 3
   },
   "file_extension": ".py",
   "mimetype": "text/x-python",
   "name": "python",
   "nbconvert_exporter": "python",
   "pygments_lexer": "ipython3",
   "version": "3.6.10"
  }
 },
 "nbformat": 4,
 "nbformat_minor": 4
}
